{
  "nbformat": 4,
  "nbformat_minor": 0,
  "metadata": {
    "colab": {
      "provenance": [],
      "authorship_tag": "ABX9TyPH98zVk/zhy0Xw+UgeQLxE",
      "include_colab_link": true
    },
    "kernelspec": {
      "name": "python3",
      "display_name": "Python 3"
    },
    "language_info": {
      "name": "python"
    }
  },
  "cells": [
    {
      "cell_type": "markdown",
      "metadata": {
        "id": "view-in-github",
        "colab_type": "text"
      },
      "source": [
        "<a href=\"https://colab.research.google.com/github/mvgouvea/Google-Colab/blob/main/aula_03.ipynb\" target=\"_parent\"><img src=\"https://colab.research.google.com/assets/colab-badge.svg\" alt=\"Open In Colab\"/></a>"
      ]
    },
    {
      "cell_type": "markdown",
      "source": [
        "#Aula 03 - Análise Nodal"
      ],
      "metadata": {
        "id": "tDJ6v-N_EjXn"
      }
    },
    {
      "cell_type": "markdown",
      "source": [
        "![anNodal.png](data:image/png;base64,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)"
      ],
      "metadata": {
        "id": "TAvV28W6CaXY"
      }
    },
    {
      "cell_type": "code",
      "source": [
        "import numpy as np"
      ],
      "metadata": {
        "id": "75AGT8b3C6R-"
      },
      "execution_count": 2,
      "outputs": []
    },
    {
      "cell_type": "code",
      "execution_count": 11,
      "metadata": {
        "id": "hbgkp5uoCDHq"
      },
      "outputs": [],
      "source": [
        "# Montar as matrizes do Grafo Elétrico\n",
        "n, r = 3, 5 # número de nós e ramos\n",
        "A = np.zeros((n, r)) # Array Incidência Nó-Ramos\n",
        "A[0,0], A[2, 0] = -1, 1 # Ramo 1\n",
        "A[0,1], A[1, 1] = -1, 1 # Ramo 2\n",
        "A[1,2], A[2,2] = 1, -1  # Ramo 3\n",
        "A[1,3] = -1             # Ramo 4\n",
        "A[2, 4] = 1             # Ramo 5\n",
        "\n",
        "A = np.matrix(A) # Matriz A\n",
        "\n",
        "Vs = np.zeros((r, 1)) # Array Coluna Fonte de Tensão de Ramos\n",
        "Vs = np.matrix(Vs)  # Matriz Vs\n",
        "\n",
        "Is = np.zeros((r, 1)) # Array Coluna Fonte de Corrente de Ramos\n",
        "Is[0, 0] = 1\n",
        "Is[1, 0] = 2\n",
        "Is[3, 0] = 3\n",
        "Is = np.matrix(Is)\n",
        "\n",
        "G = np.zeros((r, r))\n",
        "G[0, 0] = 0.7\n",
        "G[1, 1] = 0.2\n",
        "G[2, 2] = 0.1\n",
        "G[3, 3] = 0.25\n",
        "G[4, 4] = 0.5\n",
        "\n",
        "G = np.matrix(G)\n",
        "\n",
        "Gbarra = A*G*A.T\n",
        "E = Gbarra.I*A*(G*Vs-Is)\n",
        "V = A.T*E\n",
        "I = Is + G*(V - Vs)"
      ]
    },
    {
      "cell_type": "code",
      "source": [
        "I"
      ],
      "metadata": {
        "colab": {
          "base_uri": "https://localhost:8080/"
        },
        "id": "JmxAmqa6D6X4",
        "outputId": "81d2f1eb-5f40-4ab7-eea5-a95d74438409"
      },
      "execution_count": 13,
      "outputs": [
        {
          "output_type": "execute_result",
          "data": {
            "text/plain": [
              "matrix([[-1.57894737],\n",
              "        [ 1.57894737],\n",
              "        [ 0.15789474],\n",
              "        [ 1.73684211],\n",
              "        [ 1.73684211]])"
            ]
          },
          "metadata": {},
          "execution_count": 13
        }
      ]
    }
  ]
}